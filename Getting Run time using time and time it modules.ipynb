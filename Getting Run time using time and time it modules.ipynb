{
 "cells": [
  {
   "cell_type": "code",
   "execution_count": 1,
   "metadata": {},
   "outputs": [],
   "source": [
    "import time"
   ]
  },
  {
   "cell_type": "markdown",
   "metadata": {},
   "source": [
    "# Calculate Time taken by a Program to Execute in Python"
   ]
  },
  {
   "cell_type": "markdown",
   "metadata": {},
   "source": [
    "Time is precious. As programmers, we have to write programs which take less time for their execution. But to optimise our programs, we must first learn to calculate the time taken by a program for execution. In this tutorial, we are going to learn two different ways to calculate the running time of a program in python."
   ]
  },
  {
   "cell_type": "markdown",
   "metadata": {},
   "source": [
    "<b> Using the time module <b>\n",
    "\n",
    "We have a method called time() in the time module in python, which can be used to get the current time. See the following steps to calculate the running time of a program using the time() function of time module.\n",
    "\n",
    "1)Store the starting time before the first line of the program executes.\n",
    "2)Store the ending time after the last line of the program executes.\n",
    "\n",
    "<b> The difference between ending time and starting time will be the running time of the program. <b>\n"
   ]
  },
  {
   "cell_type": "code",
   "execution_count": 7,
   "metadata": {},
   "outputs": [
    {
     "name": "stdout",
     "output_type": "stream",
     "text": [
      "0\n",
      "1\n",
      "2\n",
      "3\n",
      "4\n",
      "5\n",
      "6\n",
      "7\n",
      "8\n",
      "9\n",
      "1621138781.2607229\n",
      "1621138791.3708777\n",
      "Runtime of the program is 10.110154867172241\n"
     ]
    }
   ],
   "source": [
    "start=time.time()\n",
    "for i in range(10):\n",
    "    print(i)\n",
    "    time.sleep(1)\n",
    "end=time.time()\n",
    "print(start)\n",
    "print(end)\n",
    "print(f\"Runtime of the program is {end - start}\")"
   ]
  },
  {
   "cell_type": "markdown",
   "metadata": {},
   "source": [
    "2. Using the timeit module\n",
    "\n",
    "The timeit() method of the timeit module can also be used to calculate the execution time of any program in python. The timeit() method accepts four arguments. Let's see what are these arguments:\n",
    "\n",
    "    setup, which takes the code which runs before the execution of the main program, the default value is pass\n",
    "    stmt, is a statement which we want to execute.\n",
    "    timer, is a timeit.Timer object, we don't have to pass anything to this argument.\n",
    "    number, which is the number of times the statement will run.\n",
    "\n",
    "Let's take an example to better understand this:"
   ]
  },
  {
   "cell_type": "code",
   "execution_count": 16,
   "metadata": {},
   "outputs": [
    {
     "name": "stdout",
     "output_type": "stream",
     "text": [
      "Execution time is: 8.05104879999999\n"
     ]
    }
   ],
   "source": [
    "import timeit\n",
    "setup_code = \"from math import factorial\"\n",
    "statement=\"\"\"for i in range(10):\n",
    "        factorial(i)\"\"\"   \n",
    "print(f\"Execution time is: {timeit.timeit(setup = setup_code, stmt = statement, number = 10000000)}\")"
   ]
  },
  {
   "cell_type": "code",
   "execution_count": null,
   "metadata": {},
   "outputs": [],
   "source": []
  }
 ],
 "metadata": {
  "kernelspec": {
   "display_name": "Python 3",
   "language": "python",
   "name": "python3"
  },
  "language_info": {
   "codemirror_mode": {
    "name": "ipython",
    "version": 3
   },
   "file_extension": ".py",
   "mimetype": "text/x-python",
   "name": "python",
   "nbconvert_exporter": "python",
   "pygments_lexer": "ipython3",
   "version": "3.8.5"
  }
 },
 "nbformat": 4,
 "nbformat_minor": 4
}
